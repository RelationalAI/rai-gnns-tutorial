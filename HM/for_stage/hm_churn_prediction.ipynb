{
 "cells": [
  {
   "cell_type": "code",
   "execution_count": 1,
   "metadata": {},
   "outputs": [],
   "source": [
    "# SDK imports\n",
    "from rai_gnns_experimental.core.types import ColumnDType\n",
    "from rai_gnns_experimental.core.metrics import EvaluationMetric\n",
    "from rai_gnns_experimental.core.gnn_table import GNNTable, ForeignKey\n",
    "from rai_gnns_experimental.core.task import NodeTask, TaskType\n",
    "from rai_gnns_experimental.core.trainer import Trainer\n",
    "from rai_gnns_experimental.core.config_trainer import TrainerConfig\n",
    "from rai_gnns_experimental.core.dataset import Dataset\n",
    "from rai_gnns_experimental.core.connector import LocalConnector\n",
    "from rai_gnns_experimental.core.job_manager import JobManager\n",
    "from rai_gnns_experimental.common.export import OutputConfig\n",
    "\n",
    "from IPython.display import Image, display\n",
    "\n",
    "# Jupyter magic commands\n",
    "%load_ext autoreload\n",
    "%load_ext jupyter_black\n",
    "%autoreload 2"
   ]
  },
  {
   "cell_type": "markdown",
   "metadata": {},
   "source": [
    "## Node Classification Example (Synthetic Data)"
   ]
  },
  {
   "cell_type": "code",
   "execution_count": 2,
   "metadata": {},
   "outputs": [],
   "source": [
    "# Testing logic with local files\n",
    "connector_name = \"parquet\"\n",
    "class_table_pth = \"/data/benchmark_datasets/synthetic_academic_ranking/data/classes.pqt\"\n",
    "student_takes_class_pth = (\n",
    "    \"/data/benchmark_datasets/synthetic_academic_ranking/data/student_takes_class.pqt\"\n",
    ")\n",
    "students_pth = \"/data/benchmark_datasets/synthetic_academic_ranking/data/students.pqt\"\n",
    "train_tbl_pth = (\n",
    "    \"/data/benchmark_datasets/synthetic_academic_ranking/tasks/student_rank_train.pqt\"\n",
    ")\n",
    "val_tbl_pth = \"/data/benchmark_datasets/synthetic_academic_ranking/tasks/student_rank_validation.pqt\"\n",
    "test_tbl_pth = (\n",
    "    \"/data/benchmark_datasets/synthetic_academic_ranking/tasks/student_rank_test.pqt\"\n",
    ")"
   ]
  },
  {
   "cell_type": "code",
   "execution_count": 3,
   "metadata": {},
   "outputs": [],
   "source": [
    "# create local connector\n",
    "connector = LocalConnector(\n",
    "    url=\"http://localhost\", port=8024, connector_type=connector_name\n",
    ")"
   ]
  },
  {
   "cell_type": "markdown",
   "metadata": {},
   "source": [
    "### 1. Create data tables"
   ]
  },
  {
   "cell_type": "code",
   "execution_count": null,
   "metadata": {},
   "outputs": [],
   "source": [
    "# Option 1. Define everything that you need and create table\n",
    "student_table = GNNTable(\n",
    "    connector=connector, name=\"Students\", source=students_pth, primary_key=\"studentId\"\n",
    ")\n",
    "\n",
    "# Option 2. Define table and then  add primary key\n",
    "class_table = GNNTable(connector=connector, name=\"Classes\", source=class_table_pth)\n",
    "# error when we validate\n",
    "# class_table.validate_table()\n",
    "# adding a primary key that does not exist will throw an assertion error\n",
    "# class_table.set_primary_key(\"foo\")\n",
    "class_table.set_primary_key(\"classId\")\n",
    "\n",
    "# Example add one foreign key then set the next one\n",
    "student_takes_class_table = GNNTable(\n",
    "    connector=connector,\n",
    "    name=\"StudentsTakeClass\",\n",
    "    source=student_takes_class_pth,\n",
    "    foreign_keys=[ForeignKey(column_name=\"studentId\", link_to=\"Students.studentId\")],\n",
    ")\n",
    "student_takes_class_table.set_foreign_key(\n",
    "    ForeignKey(column_name=\"classId\", link_to=\"Classes.classId\")\n",
    ")\n",
    "\n",
    "# describe table\n",
    "class_table.show_table()\n",
    "# drop column from metadata\n",
    "class_table.remove_column(col_name=\"credits\")\n",
    "class_table.show_table()\n",
    "# add it back\n",
    "class_table.add_column(col_name=\"credits\", dtype=ColumnDType.float_t)\n",
    "class_table.show_table()"
   ]
  },
  {
   "cell_type": "markdown",
   "metadata": {},
   "source": [
    "### 2. Create a node classification task"
   ]
  },
  {
   "cell_type": "code",
   "execution_count": null,
   "metadata": {},
   "outputs": [],
   "source": [
    "# If we do not set a primary key for the table, we use the source_entity_column instead\n",
    "# That implies that the task table primary key column has the same name as the\n",
    "# source entity column in the source entity table\n",
    "node_task = NodeTask(\n",
    "    connector=connector,\n",
    "    name=\"my_node_task\",\n",
    "    task_data_source={\n",
    "        \"train\": train_tbl_pth,\n",
    "        \"test\": test_tbl_pth,\n",
    "        \"validation\": val_tbl_pth,\n",
    "    },\n",
    "    source_entity_column=\"studentId\",\n",
    "    source_entity_table=\"Students\",\n",
    "    target_column=\"label\",\n",
    "    task_type=TaskType.BINARY_CLASSIFICATION,\n",
    "    current_time=True,\n",
    ")\n",
    "node_task.set_evaluation_metric(EvaluationMetric(name=\"accuracy\"))\n",
    "node_task.show_task()"
   ]
  },
  {
   "cell_type": "markdown",
   "metadata": {},
   "source": [
    "### 3. Dataset setup"
   ]
  },
  {
   "cell_type": "code",
   "execution_count": 6,
   "metadata": {},
   "outputs": [],
   "source": [
    "dataset = Dataset(\n",
    "    connector=connector,\n",
    "    dataset_name=\"toy_dataset_v2\",\n",
    "    tables=[student_table, student_takes_class_table, class_table],\n",
    "    task_description=node_task,\n",
    ")"
   ]
  },
  {
   "cell_type": "code",
   "execution_count": null,
   "metadata": {},
   "outputs": [],
   "source": [
    "graph = dataset.visualize_dataset()\n",
    "\n",
    "plt = Image(graph.create_png())\n",
    "display(plt)"
   ]
  },
  {
   "cell_type": "code",
   "execution_count": null,
   "metadata": {},
   "outputs": [],
   "source": [
    "dataset.experiment_name"
   ]
  },
  {
   "cell_type": "markdown",
   "metadata": {},
   "source": [
    "### 4. Trainer setup"
   ]
  },
  {
   "cell_type": "code",
   "execution_count": 9,
   "metadata": {},
   "outputs": [],
   "source": [
    "trainer_config = TrainerConfig(connector=connector, device=\"cuda\", n_epochs=2)"
   ]
  },
  {
   "cell_type": "code",
   "execution_count": null,
   "metadata": {},
   "outputs": [],
   "source": [
    "trainer = Trainer(connector=connector, config=trainer_config)"
   ]
  },
  {
   "cell_type": "markdown",
   "metadata": {},
   "source": [
    "### 5. Train the model"
   ]
  },
  {
   "cell_type": "code",
   "execution_count": 12,
   "metadata": {},
   "outputs": [],
   "source": [
    "train_job = trainer.fit(dataset=dataset)"
   ]
  },
  {
   "cell_type": "code",
   "execution_count": null,
   "metadata": {},
   "outputs": [],
   "source": [
    "train_job.get_status()"
   ]
  },
  {
   "cell_type": "code",
   "execution_count": null,
   "metadata": {},
   "outputs": [],
   "source": [
    "train_job.stream_logs()"
   ]
  },
  {
   "cell_type": "code",
   "execution_count": null,
   "metadata": {},
   "outputs": [],
   "source": [
    "train_job.get_status()"
   ]
  },
  {
   "cell_type": "code",
   "execution_count": null,
   "metadata": {},
   "outputs": [],
   "source": [
    "train_job.model_run_id"
   ]
  },
  {
   "cell_type": "code",
   "execution_count": null,
   "metadata": {},
   "outputs": [],
   "source": [
    "train_job.experiment_name"
   ]
  },
  {
   "cell_type": "code",
   "execution_count": null,
   "metadata": {},
   "outputs": [],
   "source": [
    "train_job.register_model(\"test_model_mlflow\")"
   ]
  },
  {
   "cell_type": "code",
   "execution_count": null,
   "metadata": {},
   "outputs": [],
   "source": [
    "train_job.registered_models"
   ]
  },
  {
   "cell_type": "markdown",
   "metadata": {},
   "source": [
    "### 6. Inference"
   ]
  },
  {
   "cell_type": "code",
   "execution_count": null,
   "metadata": {},
   "outputs": [],
   "source": [
    "inference_job1 = trainer.predict(\n",
    "    dataset=dataset,\n",
    "    # experiment_name=\"toy_dataset_v2/binary_classification/my_node_task\",\n",
    "    # test_table=test_tbl_pth,\n",
    "    model_run_id=train_job.model_run_id,\n",
    "    output_config=OutputConfig.local(\n",
    "        artifacts_dir=\"/data/dafni/artifacts/\",\n",
    "        extension=\"parquet\",\n",
    "    ),\n",
    "    output_alias=\"foo\",\n",
    "    extract_embeddings=True,\n",
    ")"
   ]
  },
  {
   "cell_type": "code",
   "execution_count": null,
   "metadata": {},
   "outputs": [],
   "source": [
    "inference_job1.model_run_id"
   ]
  },
  {
   "cell_type": "code",
   "execution_count": null,
   "metadata": {},
   "outputs": [],
   "source": [
    "inference_job1.get_status()"
   ]
  },
  {
   "cell_type": "code",
   "execution_count": null,
   "metadata": {},
   "outputs": [],
   "source": [
    "inference_job2 = trainer.predict(\n",
    "    # dataset=dataset,\n",
    "    experiment_name=\"toy_dataset_v2/binary_classification/my_node_task\",\n",
    "    test_table=test_tbl_pth,\n",
    "    select_best_model=True,\n",
    "    evaluation_metric=EvaluationMetric(name=\"accuracy\"),\n",
    "    output_config=OutputConfig.local(\n",
    "        artifacts_dir=\"/data/dafni/artifacts/\",\n",
    "        extension=\"parquet\",\n",
    "    ),\n",
    "    output_alias=\"test\",\n",
    "    extract_embeddings=True,\n",
    ")"
   ]
  },
  {
   "cell_type": "code",
   "execution_count": null,
   "metadata": {},
   "outputs": [],
   "source": [
    "inference_job2.get_status()"
   ]
  },
  {
   "cell_type": "code",
   "execution_count": null,
   "metadata": {},
   "outputs": [],
   "source": [
    "inference_job2.model_run_id"
   ]
  },
  {
   "cell_type": "code",
   "execution_count": null,
   "metadata": {},
   "outputs": [],
   "source": [
    "inference_job3 = trainer.predict(\n",
    "    # dataset=dataset,\n",
    "    experiment_name=\"toy_dataset_v2/binary_classification/my_node_task\",\n",
    "    test_table=test_tbl_pth,\n",
    "    registered_model_name=\"test_model_mlflow\",\n",
    "    version=\"10\",\n",
    "    output_config=OutputConfig.local(\n",
    "        artifacts_dir=\"/data/dafni/artifacts/\",\n",
    "        extension=\"parquet\",\n",
    "    ),\n",
    "    output_alias=\"foo\",\n",
    "    extract_embeddings=True,\n",
    ")"
   ]
  },
  {
   "cell_type": "code",
   "execution_count": null,
   "metadata": {},
   "outputs": [],
   "source": [
    "inference_job3.get_status()"
   ]
  },
  {
   "cell_type": "code",
   "execution_count": null,
   "metadata": {},
   "outputs": [],
   "source": [
    "inference_job3.model_run_id"
   ]
  },
  {
   "cell_type": "markdown",
   "metadata": {},
   "source": [
    "### 7. Train and Inference"
   ]
  },
  {
   "cell_type": "code",
   "execution_count": null,
   "metadata": {},
   "outputs": [],
   "source": [
    "# Snowflake output\n",
    "output_config = OutputConfig.snowflake(\n",
    "    database_name=\"SYNTHETIC_ACADEMIC_RANKING_DB\", schema_name=\"PUBLIC\"\n",
    ")\n",
    "\n",
    "train_inf_job = trainer.fit_predict(\n",
    "    dataset=dataset,\n",
    "    output_config=output_config,\n",
    "    output_alias=\"foo\",\n",
    "    extract_embeddings=True,\n",
    ")"
   ]
  },
  {
   "cell_type": "code",
   "execution_count": null,
   "metadata": {},
   "outputs": [],
   "source": [
    "# Local file output\n",
    "output_config = OutputConfig.local(\n",
    "    artifacts_dir=\"/data/haythem/gnn-learning-engine/\",\n",
    "    extension=\"parquet\",\n",
    ")\n",
    "\n",
    "train_inf_job = trainer.fit_predict(\n",
    "    dataset=dataset,\n",
    "    output_config=output_config,\n",
    "    output_alias=\"foo\",\n",
    "    extract_embeddings=True,\n",
    ")"
   ]
  },
  {
   "cell_type": "code",
   "execution_count": null,
   "metadata": {},
   "outputs": [],
   "source": [
    "train_inf_job.get_status()"
   ]
  },
  {
   "cell_type": "code",
   "execution_count": null,
   "metadata": {},
   "outputs": [],
   "source": [
    "train_inf_job.model_run_id"
   ]
  },
  {
   "cell_type": "code",
   "execution_count": null,
   "metadata": {},
   "outputs": [],
   "source": [
    "train_inf_job.register_model(\"test_model_mlflow\")"
   ]
  },
  {
   "cell_type": "markdown",
   "metadata": {},
   "source": [
    "### 8. Job Manager"
   ]
  },
  {
   "cell_type": "code",
   "execution_count": null,
   "metadata": {},
   "outputs": [],
   "source": [
    "job_manager = JobManager(connector=connector)"
   ]
  },
  {
   "cell_type": "code",
   "execution_count": null,
   "metadata": {},
   "outputs": [],
   "source": [
    "train_job = trainer.fit(dataset=dataset)"
   ]
  },
  {
   "cell_type": "code",
   "execution_count": null,
   "metadata": {},
   "outputs": [],
   "source": [
    "inference_job1 = trainer.predict(\n",
    "    dataset=dataset,\n",
    "    model_run_id=train_job.model_run_id,\n",
    "    output_config=OutputConfig.local(\n",
    "        artifacts_dir=\"/data/dafni/artifacts/\",\n",
    "        extension=\"parquet\",\n",
    "    ),\n",
    "    output_alias=\"foo\",\n",
    ")"
   ]
  },
  {
   "cell_type": "code",
   "execution_count": null,
   "metadata": {},
   "outputs": [],
   "source": [
    "train_job_2 = trainer.fit(dataset=dataset)\n",
    "train_job_3 = trainer.fit(dataset=dataset)\n",
    "train_job_4 = trainer.fit(dataset=dataset)\n",
    "train_job_5 = trainer.fit(dataset=dataset)"
   ]
  },
  {
   "cell_type": "code",
   "execution_count": null,
   "metadata": {},
   "outputs": [],
   "source": [
    "job_manager.show_jobs()"
   ]
  },
  {
   "cell_type": "code",
   "execution_count": null,
   "metadata": {},
   "outputs": [],
   "source": [
    "finished_job = job_manager.fetch_job(job_id=\"e3950b85-2f9d-44c3-9b33-050f69f7ee01\")"
   ]
  },
  {
   "cell_type": "code",
   "execution_count": null,
   "metadata": {},
   "outputs": [],
   "source": [
    "finished_job.model_run_id"
   ]
  },
  {
   "cell_type": "code",
   "execution_count": null,
   "metadata": {},
   "outputs": [],
   "source": [
    "train_job_5.get_status()"
   ]
  },
  {
   "cell_type": "code",
   "execution_count": null,
   "metadata": {},
   "outputs": [],
   "source": [
    "train_job_4.cancel()"
   ]
  },
  {
   "cell_type": "code",
   "execution_count": null,
   "metadata": {},
   "outputs": [],
   "source": [
    "job_manager.show_jobs()"
   ]
  },
  {
   "cell_type": "code",
   "execution_count": null,
   "metadata": {},
   "outputs": [],
   "source": [
    "job_manager.cancel_job(train_job_3.job_id)\n",
    "job_manager.show_jobs()"
   ]
  },
  {
   "cell_type": "code",
   "execution_count": null,
   "metadata": {},
   "outputs": [],
   "source": [
    "copy_of_train_job_5 = job_manager.fetch_job(train_job_5.job_id)"
   ]
  },
  {
   "cell_type": "code",
   "execution_count": null,
   "metadata": {},
   "outputs": [],
   "source": [
    "copy_of_train_job_5.cancel()"
   ]
  },
  {
   "cell_type": "code",
   "execution_count": null,
   "metadata": {},
   "outputs": [],
   "source": [
    "train_job_5.get_status()"
   ]
  },
  {
   "cell_type": "code",
   "execution_count": null,
   "metadata": {},
   "outputs": [],
   "source": []
  }
 ],
 "metadata": {
  "kernelspec": {
   "display_name": "rai_gnn_env3",
   "language": "python",
   "name": "python3"
  },
  "language_info": {
   "codemirror_mode": {
    "name": "ipython",
    "version": 3
   },
   "file_extension": ".py",
   "mimetype": "text/x-python",
   "name": "python",
   "nbconvert_exporter": "python",
   "pygments_lexer": "ipython3",
   "version": "3.11.0"
  }
 },
 "nbformat": 4,
 "nbformat_minor": 2
}

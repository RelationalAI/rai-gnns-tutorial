{
 "metadata": {
  "kernelspec": {
   "display_name": "rai_gnn_env3",
   "language": "python",
   "name": "python3"
  },
  "language_info": {
   "codemirror_mode": {
    "name": "ipython",
    "version": 3
   },
   "file_extension": ".py",
   "mimetype": "text/x-python",
   "name": "python",
   "nbconvert_exporter": "python",
   "pygments_lexer": "ipython3",
   "version": "3.11.0"
  },
  "lastEditStatus": {
   "notebookId": "cpmutakymv7pkn7osj6m",
   "authorId": "5493200917234",
   "authorName": "dafni.anagnostopoulou@relational.ai",
   "authorEmail": "",
   "sessionId": "a140a2cb-739d-4b65-97cb-c24e9c6e25ef",
   "lastEditTime": 1752510133097
  }
 },
 "nbformat_minor": 2,
 "nbformat": 4,
 "cells": [
  {
   "cell_type": "markdown",
   "id": "fd6fb832-e2d3-48c9-b669-b7a1a248b0bb",
   "metadata": {
    "name": "cell1",
    "collapsed": false
   },
   "source": "# HM Churn Prediction: Node Classification example using the GNN learning engine under the RelationalAI Snowflake Native App"
  },
  {
   "cell_type": "markdown",
   "id": "e7332859-144c-43c5-b0ce-eadc96928183",
   "metadata": {
    "name": "cell2",
    "collapsed": false
   },
   "source": "### 🔐 Connecting to the RelationalAI Native App via Snowflake\n\nTo connect to the RelationalAI native app, we'll first set up a dictionary that defines the necessary environment variables for establishing a Snowflake connection. Here we will use\nthe `active_session` authentication method which gets all the credentials needed from the\ncurrent snowflake session. We only need to provide the application name (`RAI_EXPT_APP`).\n\n#### 🔐 About Authentication\n\nIn this tutorial, we’ll use **active_session**. However, other authentication methods—such as **Key Pair Authentication**, **Password** or **OAuth Token Authentication**—are also supported. \n"
  },
  {
   "cell_type": "code",
   "id": "53eb4c47-3238-4a33-b28e-b16aa3cb73a4",
   "metadata": {
    "language": "python",
    "name": "cell3"
   },
   "outputs": [],
   "source": "# load the snowflake configuration to a python dict\nsnowflake_config = {\n    \"app_name\": \"RAI_EXPT_APP\",\n    \"auth_method\": \"active_session\"\n}",
   "execution_count": null
  },
  {
   "cell_type": "markdown",
   "id": "6a9502d1-6af8-48ac-8b71-b4878bee3e5a",
   "metadata": {
    "name": "cell4",
    "collapsed": false
   },
   "source": "## ⚙️ Managing Your GNN Engines\n\nThe `Provider` class in the RelationalAI GNN SDK allows you to manage your GNN engines seamlessly. Below, we walk through common operations you can perform with the `Provider`:\n\n* ✅ Create a new GNN engine\n* 📋 List all available engines\n* 🔍 Check the status of an engine\n* 🔄 Resume a paused engine\n* ❌ Delete an engine\n\nEach of these operations can be done with simple method calls, as shown in the following examples."
  },
  {
   "cell_type": "code",
   "execution_count": 1,
   "metadata": {
    "name": "cell5",
    "language": "python",
    "codeCollapsed": false
   },
   "outputs": [],
   "source": "# SDK imports\nfrom rai_gnns_experimental import ColumnDType\nfrom rai_gnns_experimental import EvaluationMetric\nfrom rai_gnns_experimental import GNNTable, ForeignKey\nfrom rai_gnns_experimental import NodeTask, TaskType\nfrom rai_gnns_experimental import Trainer\nfrom rai_gnns_experimental import TrainerConfig\nfrom rai_gnns_experimental import Dataset\nfrom rai_gnns_experimental import JobManager\nfrom rai_gnns_experimental import OutputConfig, SnowflakeConnector, Provider\n\nfrom graphviz import Source\nimport time",
   "id": "ce110000-1111-2222-3333-ffffff000000"
  },
  {
   "cell_type": "code",
   "id": "f7860564-0bb2-4fc9-aec8-70edcf2a4813",
   "metadata": {
    "language": "python",
    "name": "cell6"
   },
   "outputs": [],
   "source": "# engine setup\nengine_name = \"my_engine\"\nengine_size = \"GPU_NV_S\" # Available sizes: \"GPU_NV_S\" or \"HIGHMEM_X64_S\"\n\n# database /s chema\nDB_NAME = \"HM_DB\"\nDB_SCHEMA_NAME = \"HM_SCHEMA\"\nTASK_SCHEMA_NAME = \"HM_CHURN\"\nDB_SCHEMA = f\"{DB_NAME}.{DB_SCHEMA_NAME}\"\nTASK_SCHEMA = f\"{DB_NAME}.{TASK_SCHEMA_NAME}\"\n\n# dataset name\nDATASET_NAME = \"hm_churn_dataset\"\n\n# customer data\nCUSTOMER_SOURCE_TABLE = f\"{DB_SCHEMA}.CUSTOMERS\"\nCUSTOMER_NAME = \"customers\"\nCUSTOMER_PRIMARY_KEY = \"customer_id\"\n\n# article data\nARTICLE_SOURCE_TABLE = f\"{DB_SCHEMA}.ARTICLES\"\nARTICLE_NAME = \"articles\"\nARTICLE_PRIMARY_KEY = \"article_id\"\n\n# transaction data\nTRANSACTION_SOURCE_TABLE = f\"{DB_SCHEMA}.TRANSACTIONS\"\nTRANSACTION_NAME = \"transactions\"\nTIME_COLUMN = \"t_dat\"\n\n# node task\nNODE_TASK_NAME = \"customer_churn\"\nTASK_TARGET_COLUMN_NAME = \"churn\"\nTASK_TIME_COLUMN_NAME = \"timestamp\"\nTASK_TRAIN_TABLE = f\"{TASK_SCHEMA}.TRAIN\"\nTASK_TEST_TABLE  = f\"{TASK_SCHEMA}.TEST\"\nTASK_VALIDATION_TABLE = f\"{TASK_SCHEMA}.VALIDATION\"\n\n# model params\nMODEL_DEVICE = \"cuda\" # either 'cuda' or 'cpu'\nMODEL_N_EPOCHS = 3\nMODEL_MAX_ITERS = 200\nMODEL_TEXT_EMBEDDER = \"model2vec-potion-base-4M\"\n\n\nOUTPUT_ALIAS = \"TEST_PREDS_1\"\nOUTPUT_TABLE = f\"PREDICTIONS_{OUTPUT_ALIAS}\"\nOUTPUT_ALIAS_BEST = \"TEST_PREDS_BEST\"\nREGISTERED_MODEL_NAME = \"test_model_mlflow\"\nOUTPUT_ALIAS_REGISTERED = \"TEST_PREDS_REGISTERED\"\nTEST_BATCH_SIZE = 128",
   "execution_count": null
  },
  {
   "cell_type": "code",
   "id": "5fc64f3d-7243-413b-a0bc-bd8b54f0899f",
   "metadata": {
    "language": "python",
    "name": "cell7"
   },
   "outputs": [],
   "source": "# initialize the provider using the snowflake configuration\n# (note: you might be prompted from your MFA app at this point)\nprovider = Provider(**snowflake_config)",
   "execution_count": null
  },
  {
   "cell_type": "code",
   "id": "21cfc37b-382f-47e4-bcd5-a7b29bd891f1",
   "metadata": {
    "language": "python",
    "name": "cell8"
   },
   "outputs": [],
   "source": "# Create a new GNN engine.\n# Currently supported engine types:\n# - For Snowflake accounts hosted on AWS: \"GPU_NV_S\" and \"HIGHMEM_X64_S\"\n# - For Snowflake accounts hosted on Azure: \"HIGHMEM_X64_S\" only\n#\n# You must provide:\n# - A custom engine name (via the `name` parameter)\n# - The engine type (via the `size` parameter)\n#\n# Available sizes:\n# - AWS: \"GPU_NV_S\", \"HIGHMEM_X64_S\"\n# - Azure: \"HIGHMEM_X64_S\"\n#\n# provider.create_gnn(\n#    name=engine_name,\n#    size=\"GPU_NV_S\"  # or \"HIGHMEM_X64_S\"\n#)\n\n# The creation of a new engine may take \n# several minutes to complete (e.g., ~4 minutes).\n# Be patient and do not interrupt the process.\n\n# check if engine exists, if yes, resume if not create it\nif not provider.get_gnn(engine_name): \n    print(f\"Creating Engine {engine_name}\")\n    provider.create_gnn(name=engine_name, size=engine_size)\nelse:\n    print(f\"Resuming Engine {engine_name}\")\n    provider.resume_gnn(name=engine_name)",
   "execution_count": null
  },
  {
   "cell_type": "code",
   "id": "e2ff3fac-d126-4aa2-b047-609071683c43",
   "metadata": {
    "language": "python",
    "name": "cell9"
   },
   "outputs": [],
   "source": "# HINT: We can always resume a GNN engine that has been suspended:\n# Note: Engine provisioning can take some minutes. Please\n# check the engine status using provider.get_gnn(name=\"my_engine\")\n\n# provider.resume_gnn(name=engine_name)\n\n# And if we need we can also delete a GNN engine\n\n# provider.delete_gnn(name=engine_name)\n\n# we can also check the existing engines. If there is not engines listed here you would need to create one using provider.create_gnn(name=\"my_engine\", size=\"GPU_NV_S\")\n# provider.list_gnns()\n",
   "execution_count": null
  },
  {
   "cell_type": "code",
   "id": "eeb00f98-465f-4db1-92ae-1b93a3f95779",
   "metadata": {
    "language": "python",
    "name": "cell10"
   },
   "outputs": [],
   "source": "# If we resume an engine, we can directly see the status of the engine\n# the status of the engine 'READY' marks the fact that the\n# engine is ready to be used. A `PENDING` status marks the\n# fact that the engine has  been automaticaly suspended.\n# Notice also that under the settings \n# the provider exposes a URL for the MLFLOW endpoint\n# that we can use to track our experiments\n# NOTE: we should wait until the status is READY\n\nengine_data = provider.get_gnn(engine_name) \nwhile not engine_data or engine_data[\"state\"] != 'READY':\n    time.sleep(10)\n    engine_data = provider.get_gnn(engine_name) \n    \n\nprint(f'ENGINE {engine_name} READY')",
   "execution_count": null
  },
  {
   "cell_type": "markdown",
   "id": "e9c0709b-e05b-4c75-8d93-717f0fdba414",
   "metadata": {
    "name": "cell11",
    "collapsed": false
   },
   "source": "⚠️ **Warning:** To  make sure to check the engine status (e.g., via `provider.get_gnn(\"engine_name\")`) and make sure that the status is `READY` "
  },
  {
   "cell_type": "markdown",
   "id": "623023d0-8df9-4dae-af5a-66c27acff735",
   "metadata": {
    "name": "cell12",
    "collapsed": false
   },
   "source": "## 🔌 Connector Setup\n\nThe `Connector` class, like the `Provider` class, is used to communicate with Snowflake. However, while the `Provider` is responsible for managing GNN engines, the `Connector` is specifically used to interface with the **GNN learning engine** itself.\n\nYou’ll use the `Connector` instance as an input to all SDK components that need to send requests to the GNN engine—such as loading data, running training jobs, or performing inference.\n\nIn short:\n\n* `Provider` → Manages GNN engine instances (create, list, delete, etc.)\n* `Connector` → Sends requests to a specific GNN engine for processing tasks\n\nLet’s now walk through how to create and use a `Connector`.\n"
  },
  {
   "cell_type": "code",
   "id": "0afaceae-881c-4cf6-b2c0-de42ac1b9542",
   "metadata": {
    "language": "python",
    "name": "cell13"
   },
   "outputs": [],
   "source": "# we initialize the connector and passing all our credentials.\nconnector = SnowflakeConnector(\n    **snowflake_config,\n    engine_name=engine_name,\n)\n# the connector also provides access to MLFLOW that you can\n# use to monitor your experiments and register trained GNN models\n# connector.mlflow_session_url",
   "execution_count": null
  },
  {
   "cell_type": "markdown",
   "id": "022d5bab-6fb9-41ab-8305-e9259d5e1f08",
   "metadata": {
    "name": "cell39",
    "collapsed": false
   },
   "source": "## 📈 MLflow: Monitor Training\n\nYou can visit MLflow to monitor the training process in real time, including loss trends and evaluation metrics, using the mlflowendpoint ingress url. For a detailed example on how to use MLflow you can visit https://github.com/RelationalAI/rai-gnns-tutorial/blob/main/HM/MLflow.md "
  },
  {
   "cell_type": "code",
   "id": "889630a3-67f8-41b7-8a47-86c040d0ba22",
   "metadata": {
    "language": "python",
    "name": "cell38"
   },
   "outputs": [],
   "source": "connector._get_gnn_engine_details(engine_name)",
   "execution_count": null
  },
  {
   "cell_type": "markdown",
   "id": "522cb986-d914-42f6-af2d-d0d5c5ec4e1c",
   "metadata": {
    "name": "cell14",
    "collapsed": false
   },
   "source": "## 📊 Preparing the data: Creating the GNN tables\n\nIn this section, we will define the GNN tables and the associated learning task. These components will then be used to construct a GNN dataset suitable for training.\n\nFor this tutorial, we’ll use the H&M database as our working example. This database includes three tables: CUSTOMERS, ARTICLES, and TRANSACTIONS. The TRANSACTIONS table links CUSTOMERS to ARTICLES. Our objective is to predict if a given CUSTOMER is going to churn in the next week, meaning if they are going to stop making any TRANSACTIONS. We handle this problem as a binary node classification task (churn=1/no churn=0).\n"
  },
  {
   "cell_type": "code",
   "id": "ea98f931-2205-4d42-bfa8-7d8a1eb38038",
   "metadata": {
    "language": "python",
    "name": "cell15"
   },
   "outputs": [],
   "source": "# create a table for the customers and set the \n# customer_id as a primary key (primary and \n# foreign keys are used to construct the edges of the graph)\ncustomers_table = GNNTable(\n    connector=connector,\n    source=CUSTOMER_SOURCE_TABLE,\n    name=CUSTOMER_NAME,\n    primary_key=CUSTOMER_PRIMARY_KEY,\n)\ncustomers_table.show_table()",
   "execution_count": null
  },
  {
   "cell_type": "code",
   "id": "d11a6080-78b8-4732-8089-86772ca5a718",
   "metadata": {
    "language": "python",
    "name": "cell16"
   },
   "outputs": [],
   "source": "# in a similar manner we can create the ARTICLES table\narticles_table = GNNTable(\n    connector=connector,\n    source=ARTICLE_SOURCE_TABLE,\n    name=ARTICLE_NAME,\n    primary_key=ARTICLE_PRIMARY_KEY,\n)\narticles_table.show_table()",
   "execution_count": null
  },
  {
   "cell_type": "code",
   "id": "b39db9fa-2d55-40be-aae3-88fdcceabb4e",
   "metadata": {
    "language": "python",
    "name": "cell17"
   },
   "outputs": [],
   "source": "# and finally we will link the two tables using the foreign\n# keys from the TRANSACTIONS table. Note: the transactions\n# table  has also one special \"time column\" that will be used\n# to prevent data leakage (see the documentation for more details)\ntransactions_table = GNNTable(\n    connector=connector,\n    source=TRANSACTION_SOURCE_TABLE,\n    name=TRANSACTION_NAME,\n    foreign_keys=[\n        ForeignKey(\n            column_name=CUSTOMER_PRIMARY_KEY, link_to=CUSTOMER_NAME+\".\"+CUSTOMER_PRIMARY_KEY),\n        ForeignKey(\n            column_name=ARTICLE_PRIMARY_KEY, link_to=ARTICLE_NAME+\".\"+ARTICLE_PRIMARY_KEY),\n    ],\n    time_column=TIME_COLUMN,\n)\ntransactions_table.show_table()",
   "execution_count": null
  },
  {
   "cell_type": "markdown",
   "id": "9ca4b6fb-9336-4836-88d3-8c6914b071ab",
   "metadata": {
    "name": "cell18",
    "collapsed": false
   },
   "source": "\n## 🔧 Preparing the Data: Creating the Task\n\nTo define the task, we begin by specifying the locations of the training, validation, and test datasets. We also identify the source table, along with the corresponding columns that uniquely identify each entity.\n\nSince this is a **binary node classification** task, our objective is to predict the label of each source entity.\n\nAdditionally, we define a **timestamp column** to avoid information leakage by ensuring that future data doesn't influence past predictions (see [documentation](GNN_SDK_DOCUMENTATION.md) for details). Lastly, we specify the **evaluation metric**—in this case, **ROC AUC**—to assess the performance of the model.\n"
  },
  {
   "cell_type": "code",
   "id": "a6393dc7-0391-4db9-874f-36ef45295860",
   "metadata": {
    "language": "python",
    "name": "cell19"
   },
   "outputs": [],
   "source": "churn_task = NodeTask(\n    connector=connector,\n    name=NODE_TASK_NAME,\n    # define train, validation and test (optional) tables\n    task_data_source={\n        \"train\": TASK_TRAIN_TABLE,\n        \"validation\": TASK_VALIDATION_TABLE,\n        \"test\": TASK_TEST_TABLE,\n    },\n    # name of source entity column that we want to do predictions for\n    source_entity_column=CUSTOMER_PRIMARY_KEY,\n    # name of GNN table that column is at\n    source_entity_table=CUSTOMER_NAME,\n    # name of the column that holds the info that we want to predict from our train table\n    target_column=TASK_TARGET_COLUMN_NAME,\n    time_column=TASK_TIME_COLUMN_NAME,\n    task_type=TaskType.BINARY_CLASSIFICATION,\n    evaluation_metric=EvaluationMetric(name=\"roc_auc\"),\n)\n\nchurn_task.show_task()",
   "execution_count": null
  },
  {
   "cell_type": "markdown",
   "id": "579d398c-72d4-44eb-8aea-b0cde2d17d7a",
   "metadata": {
    "name": "cell20",
    "collapsed": false
   },
   "source": "## 🧩 Preparing the Data: Creating the Dataset\n\nFinally, we combine all the components by constructing a dataset object that encapsulates both the GNN tables and the task definition. This dataset will serve as the input to the model training pipeline, ensuring that the task and its associated data are tightly integrated and ready for downstream processing.\n"
  },
  {
   "cell_type": "code",
   "execution_count": 6,
   "metadata": {
    "name": "cell21",
    "language": "python"
   },
   "outputs": [],
   "source": "dataset = Dataset(\n    connector=connector,\n    dataset_name=DATASET_NAME,\n    tables=[articles_table, customers_table, transactions_table],\n    task_description=churn_task,\n)",
   "id": "ce110000-1111-2222-3333-ffffff000009"
  },
  {
   "cell_type": "code",
   "id": "5868eb50-20f1-490b-970e-20a01454fa3d",
   "metadata": {
    "language": "python",
    "name": "cell22"
   },
   "outputs": [],
   "source": "# we can also visualize the dataset \ngraph = dataset.visualize_dataset(show_dtypes=True)\n# play with font size and plot size to get a good visualization\nfor node in graph.get_nodes():    \n    font_size = node.get_attributes()['fontsize']\n    font_size = \"16\"\n    node.set('fontsize', font_size)\n\ngraph.set_graph_defaults(size=\"10,10!\")  # Increase graph size\n\nsrc = Source(graph.to_string())\nsrc  # Display in notebo",
   "execution_count": null
  },
  {
   "cell_type": "markdown",
   "id": "fdcfc33d-ed25-4c37-a6c5-35feb0066b70",
   "metadata": {
    "name": "cell23",
    "collapsed": false
   },
   "source": "## 🚀 GNN Model Training\n\nNow that our dataset is ready, we can train our first GNN model. We’ll begin by defining a **configuration** that specifies the training parameters, such as model architecture, optimizer settings, and training duration.\n\nNext, we’ll instantiate a **trainer** using this configuration. The trainer will consume the dataset we previously created and manage the entire training process. By calling the `fit()` method on the trainer, we initiate a training job—whose progress and status can be monitored throughout execution."
  },
  {
   "cell_type": "code",
   "id": "cb420c88-6598-4641-b65b-5dacac65f494",
   "metadata": {
    "language": "python",
    "name": "cell24"
   },
   "outputs": [],
   "source": "# the first step will be to define a configuration for our Trainer.\n# the configuration includes many parameters that are explained in\n# detail in the documentation. It does not only provide parameters\n# for the graph neural network but also parameters for other components\n# of the model (such as feature extractors, prediction head parameters,\n# training parameters etc.)\nmodel_config = TrainerConfig(\n    connector=connector,\n    device=MODEL_DEVICE,  # either 'cuda' or 'cpu'\n    n_epochs=MODEL_N_EPOCHS,\n    max_iters=MODEL_MAX_ITERS,\n    text_embedder=MODEL_TEXT_EMBEDDER,\n)",
   "execution_count": null
  },
  {
   "cell_type": "code",
   "id": "44d636f0-3f91-49f1-98e9-d70a61a9a1f2",
   "metadata": {
    "language": "python",
    "name": "cell25"
   },
   "outputs": [],
   "source": "# we initialize now our trainer object with the trainer configuration\n# the trainer object can be used to train a model, to perform inference\n# or to perform training & inference.\ntrainer = Trainer(connector=connector, config=model_config)",
   "execution_count": null
  },
  {
   "cell_type": "code",
   "id": "e113a2d5-bcef-408b-8c09-3b3151edd8af",
   "metadata": {
    "language": "python",
    "name": "cell26"
   },
   "outputs": [],
   "source": "# in our first example we will use the trainer to perform training only.\n# every time the trainer is \"executed\" (calling fit(), predict() or fit_predict())\n# it returns a job object that can be used to monitor the current running job.\n# See the documentation for the meaning of the job statuses\ntrain_job = trainer.fit(dataset=dataset)",
   "execution_count": null
  },
  {
   "cell_type": "code",
   "id": "f468d2a2-190b-4801-8bc8-66947d20572e",
   "metadata": {
    "language": "python",
    "name": "cell27"
   },
   "outputs": [],
   "source": "# we can also stream the logs of the training job in real time\n# Hint: You can stop the cell execution to stop monitoring of logs\n# Hint: At this point you can also open the MLFLow URL to monitor your experiments\ntrain_job.stream_logs()",
   "execution_count": null
  },
  {
   "cell_type": "code",
   "id": "e5c6dd96-d809-4c87-81e5-a96bfcb733fa",
   "metadata": {
    "language": "python",
    "name": "cell28"
   },
   "outputs": [],
   "source": "# hint: one can cancel a running job as well\n# train_job.cancel()",
   "execution_count": null
  },
  {
   "cell_type": "code",
   "id": "81fa3a9c-e3ab-4edc-a9b9-29c627ad8e14",
   "metadata": {
    "language": "python",
    "name": "cell29"
   },
   "outputs": [],
   "source": "# now we can monitor the job status\n# observe that once the job is running we also get back an experiment name\n# we will see later how we can use that to perform inference\ntrain_job.get_status()",
   "execution_count": null
  },
  {
   "cell_type": "markdown",
   "id": "5736b155-cc8a-4fea-8a46-b63766a92f4e",
   "metadata": {
    "name": "cell32",
    "collapsed": false
   },
   "source": "## 🔍 Inference Using a Trained Model\n\nFinally, we’ll demonstrate how to perform inference using the model we’ve just trained. In this example, we'll directly use the recently trained model to generate predictions.\n\nFor more advanced use cases—such as registering a model for reuse or automatically selecting the best-performing model—please refer to the [documentation](GNN_SDK_DOCUMENTATION.md) for further guidance.\n"
  },
  {
   "cell_type": "code",
   "id": "bce42c16-bf21-45e4-ab5f-30012acd56bb",
   "metadata": {
    "language": "python",
    "name": "cell33"
   },
   "outputs": [],
   "source": "# remove the previous predictions, if the table exists\ndf = provider._session.sql(f\"SELECT * FROM {DB_NAME}.information_schema.tables WHERE table_name = '{OUTPUT_TABLE}';\"); \nif (len(df.collect()) > 0): # table exists\n    df = provider._session.sql(f\"GRANT OWNERSHIP ON {DB_SCHEMA}.{OUTPUT_TABLE} TO ROLE ACCOUNTADMIN REVOKE CURRENT GRANTS;\") ; df.collect()\n    df = provider._session.sql(f\"DROP TABLE IF EXISTS {DB_SCHEMA}.{OUTPUT_TABLE};\") ; df.collect()",
   "execution_count": null
  },
  {
   "cell_type": "code",
   "id": "ea3cb76c-9fa5-470a-a432-fbb161c36cd2",
   "metadata": {
    "language": "python",
    "name": "cell34"
   },
   "outputs": [],
   "source": "output_config = OutputConfig.snowflake(database_name=DB_NAME, schema_name=\"PUBLIC\")\n# make sure that the table with the same alias does not already exist\n# we never overwrite tables\n\ninference_job = trainer.predict(\n    output_alias=OUTPUT_ALIAS,\n    output_config=output_config,\n    test_batch_size=TEST_BATCH_SIZE,\n    dataset=dataset,\n    model_run_id=train_job.model_run_id,\n    extract_embeddings=True,\n)\n\ninference_job.stream_logs()",
   "execution_count": null
  },
  {
   "cell_type": "code",
   "id": "4c5a0b9c-b056-4795-a060-ee87a1fba517",
   "metadata": {
    "language": "python",
    "name": "cell35"
   },
   "outputs": [],
   "source": "inference_job.get_status()",
   "execution_count": null
  },
  {
   "cell_type": "code",
   "id": "bb2762a5-0e31-45d1-8235-5789994c769c",
   "metadata": {
    "language": "python",
    "name": "cell36"
   },
   "outputs": [],
   "source": "# Finally, let's take a look at some of the predictions done by our GNN model\n# These predictions are saved in the OUTPUT_TABLE \n\ndf = provider._session.sql(f\"SELECT * FROM {OUTPUT_TABLE} LIMIT 100;\") ; df.collect()",
   "execution_count": null
  },
  {
   "cell_type": "markdown",
   "id": "966d71b8-333c-4444-8c01-2dd4c4a88ad8",
   "metadata": {
    "name": "cell37",
    "collapsed": false
   },
   "source": "## 📋 Job Manager\n\nIt might be the case that we have lost track of the jobs that we are running. To this end we also provide to the user a JobManager object that can give us the status of all jobs."
  },
  {
   "cell_type": "code",
   "id": "ac3531da-5454-455f-b80a-daf8743174d4",
   "metadata": {
    "language": "python",
    "name": "cell30"
   },
   "outputs": [],
   "source": "# Let's see an example:\njob_manager = JobManager(connector=connector)\njob_manager.show_jobs()",
   "execution_count": null
  },
  {
   "cell_type": "code",
   "id": "e3b14b40-b477-429c-bd4f-a7e817be75b5",
   "metadata": {
    "language": "python",
    "name": "cell31",
    "codeCollapsed": false
   },
   "outputs": [],
   "source": "# You can retrieve job details using its job ID.\n# For example, use the job ID of the training job above to access its details\n# and use the trained model for inference.\n\n# NOTE: To run this cell, replace the job ID below with the actual ID\n# from your training job output in the previous cell.\n\nretrieved_job = job_manager.fetch_job(\"01bdaf68-020e-076c-000a-1dc701bcbba6\")\n# hint: the job manager can be used to cancel any job as well",
   "execution_count": null
  },
  {
   "cell_type": "code",
   "id": "b49bfd1d-3f83-44fd-83c8-4fc3fe6a9b9d",
   "metadata": {
    "language": "python",
    "name": "cell40",
    "codeCollapsed": false
   },
   "outputs": [],
   "source": "# remove the previous predictions, if the table exists\ndf = provider._session.sql(f\"SELECT * FROM {DB_NAME}.information_schema.tables WHERE table_name = '{OUTPUT_TABLE}';\"); \nif (len(df.collect()) > 0): # table exists\n    df = provider._session.sql(f\"GRANT OWNERSHIP ON {DB_SCHEMA}.{OUTPUT_TABLE} TO ROLE ACCOUNTADMIN REVOKE CURRENT GRANTS;\") ; df.collect()\n    df = provider._session.sql(f\"DROP TABLE IF EXISTS {DB_SCHEMA}.{OUTPUT_TABLE};\") ; df.collect()",
   "execution_count": null
  },
  {
   "cell_type": "code",
   "id": "a89e3b4e-9de2-4757-8709-625f7ea9631c",
   "metadata": {
    "language": "python",
    "name": "cell41",
    "codeCollapsed": false
   },
   "outputs": [],
   "source": "output_config = OutputConfig.snowflake(database_name=DB_NAME, schema_name=\"PUBLIC\")\n# make sure that the table with the same alias does not already exist\n# we never overwrite tables\n# use the retrieved job to get the trained model for inference\n\ninference_job_2 = trainer.predict(\n    output_alias=OUTPUT_ALIAS,\n    output_config=output_config,\n    test_batch_size=TEST_BATCH_SIZE,\n    dataset=dataset,\n    model_run_id=retrieved_job.model_run_id,\n    extract_embeddings=False,\n)\n\ninference_job_2.stream_logs()",
   "execution_count": null
  },
  {
   "cell_type": "markdown",
   "id": "f04e7839-e76f-41f2-8018-19a929651a60",
   "metadata": {
    "name": "cell42",
    "collapsed": false
   },
   "source": "## 🔍 Inference Using the Best Model\n\nIn case we have trained many models on this dataset we can also select the best model based on the performance on the validation set."
  },
  {
   "cell_type": "code",
   "id": "91373e11-c101-4ab7-b81e-46c75a4f9dec",
   "metadata": {
    "language": "python",
    "name": "cell43"
   },
   "outputs": [],
   "source": "output_config = OutputConfig.snowflake(database_name=DB_NAME, schema_name=\"PUBLIC\")\n# make sure that the table with the same alias does not already exist\n# we never overwrite tables\n\ninference_job_best = trainer.predict(\n    output_alias=OUTPUT_ALIAS_BEST,\n    output_config=output_config,\n    test_batch_size=TEST_BATCH_SIZE,\n    dataset=dataset,\n    select_best_model=True,\n    extract_embeddings=False,\n)\n\ninference_job_best.stream_logs()",
   "execution_count": null
  },
  {
   "cell_type": "markdown",
   "id": "c43b1ea2-92ea-46f4-99dc-f6de44461b6f",
   "metadata": {
    "name": "cell44",
    "collapsed": false
   },
   "source": "## 💾 Registering Model in MLflow\n\nWhen you are satisfied with your model's performance you can register the model to MLflow and use the registered model for inference."
  },
  {
   "cell_type": "code",
   "id": "6e88f38b-6bad-4f10-bfa1-420d86a4773e",
   "metadata": {
    "language": "python",
    "name": "cell45"
   },
   "outputs": [],
   "source": "# To register a model in MLflow you only need to\n# provide a name for the model you are registering.\ntrain_job.register_model(REGISTERED_MODEL_NAME)",
   "execution_count": null
  },
  {
   "cell_type": "code",
   "id": "f3760cab-c3a3-44ad-a516-23ac10a3c818",
   "metadata": {
    "language": "python",
    "name": "cell46"
   },
   "outputs": [],
   "source": "output_config = OutputConfig.snowflake(database_name=DB_NAME, schema_name=\"PUBLIC\")\n# make sure that the table with the same alias does not already exist\n# we never overwrite tables\n# the registered model can now be used to do inference on a test set.\n# we only need to provide the model name and version.\n\ninference_job_reg = trainer.predict(\n    output_alias=OUTPUT_ALIAS_REGISTERED,\n    output_config=output_config,\n    test_batch_size=TEST_BATCH_SIZE,\n    dataset=dataset,\n    registered_model_name=REGISTERED_MODEL_NAME,\n    version=\"1\",\n    extract_embeddings=False,\n)\n\ninference_job_reg.stream_logs()",
   "execution_count": null
  }
 ]
}
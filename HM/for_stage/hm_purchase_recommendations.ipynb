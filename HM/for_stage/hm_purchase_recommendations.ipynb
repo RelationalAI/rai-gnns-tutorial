{
 "cells": [
  {
   "cell_type": "code",
   "execution_count": 1,
   "metadata": {},
   "outputs": [],
   "source": [
    "import os\n",
    "from dotenv import load_dotenv\n",
    "\n",
    "from rai_gnns_experimental import GNNTable, ForeignKey\n",
    "from rai_gnns_experimental import ColumnDType\n",
    "from rai_gnns_experimental import EvaluationMetric\n",
    "from rai_gnns_experimental import LinkTask, TaskType\n",
    "from rai_gnns_experimental import Dataset\n",
    "from rai_gnns_experimental import TrainerConfig\n",
    "from rai_gnns_experimental import Trainer\n",
    "from rai_gnns_experimental import SnowflakeConnectorDirectAccess\n",
    "\n",
    "from IPython.display import Image, display\n",
    "\n",
    "\n",
    "# Jupyter Magic Commands\n",
    "%load_ext autoreload\n",
    "%load_ext jupyter_black\n",
    "%autoreload 2"
   ]
  },
  {
   "cell_type": "code",
   "execution_count": null,
   "metadata": {},
   "outputs": [],
   "source": [
    "# Load Environment Variables\n",
    "load_dotenv()"
   ]
  },
  {
   "cell_type": "markdown",
   "metadata": {},
   "source": [
    "### 1. Setup snowflake connection and input data"
   ]
  },
  {
   "cell_type": "code",
   "execution_count": null,
   "metadata": {},
   "outputs": [],
   "source": [
    "snowflake_config = {\n",
    "    \"account\": os.getenv(\"ACCOUNT_NAME\"),\n",
    "    \"user\": os.getenv(\"USER_NAME\"),\n",
    "    \"password\": os.getenv(\"PASSWORD\"),\n",
    "    \"warehouse\": os.getenv(\"WAREHOUSE\"),\n",
    "    \"app_name\": os.getenv(\"APP_NAME\"),\n",
    "    \"auth_method\": \"password\",\n",
    "}\n",
    "\n",
    "connector = SnowflakeConnectorDirectAccess(\n",
    "    **snowflake_config,\n",
    "    endpoint_url=\"https://bmg4y5qc-ndsoebe-rai-gnns-test.snowflakecomputing.app\",\n",
    ")"
   ]
  },
  {
   "cell_type": "code",
   "execution_count": null,
   "metadata": {},
   "outputs": [],
   "source": [
    "buyers_pth = \"GNN_DEMO_TF.TF_DATA.BUYERS\"\n",
    "senders_pth = \"GNN_DEMO_TF.TF_DATA.SENDERS\"\n",
    "transactions_pth = \"GNN_DEMO_TF.TF_DATA.TRANSACTIONS\"\n",
    "train_pth = \"GNN_DEMO_TF.TF_LINK_PRED.TRAIN\"\n",
    "val_pth = \"GNN_DEMO_TF.TF_LINK_PRED.VAL\"\n",
    "test_pth = \"GNN_DEMO_TF.TF_LINK_PRED.TEST\""
   ]
  },
  {
   "cell_type": "markdown",
   "metadata": {},
   "source": [
    "### Create GNN Tables (Graph Initialization)"
   ]
  },
  {
   "cell_type": "markdown",
   "metadata": {},
   "source": [
    "We create three different tables, a table for the buyers a table\n",
    "for the senders and a table with the transactions between them"
   ]
  },
  {
   "cell_type": "code",
   "execution_count": null,
   "metadata": {},
   "outputs": [],
   "source": [
    "buyers_table = GNNTable(\n",
    "    connector=connector,\n",
    "    source=buyers_pth,\n",
    "    name=\"buyers\",\n",
    "    primary_key=\"BUY_TOKEN_ADDRESS\",\n",
    ")\n",
    "buyers_table.show_table()"
   ]
  },
  {
   "cell_type": "code",
   "execution_count": null,
   "metadata": {},
   "outputs": [],
   "source": [
    "senders_table = GNNTable(\n",
    "    connector=connector,\n",
    "    source=senders_pth,\n",
    "    name=\"senders\",\n",
    "    primary_key=\"TX_SENDER_ADDRESS\",\n",
    ")\n",
    "senders_table.show_table()"
   ]
  },
  {
   "cell_type": "code",
   "execution_count": null,
   "metadata": {},
   "outputs": [],
   "source": [
    "transactions_table = GNNTable(\n",
    "    connector=connector,\n",
    "    source=transactions_pth,\n",
    "    name=\"transactions\",\n",
    "    foreign_keys=[\n",
    "        ForeignKey(\n",
    "            column_name=\"TX_SENDER_ADDRESS\", link_to=\"senders.TX_SENDER_ADDRESS\"\n",
    "        ),\n",
    "        ForeignKey(column_name=\"BUY_TOKEN_ADDRESS\", link_to=\"buyers.BUY_TOKEN_ADDRESS\"),\n",
    "    ],\n",
    "    time_column=\"BLOCK_TIMESTAMP\",\n",
    ")\n",
    "# modify column dtypes if needed\n",
    "transactions_table.update_column_dtype(\n",
    "    col_name=\"BUY_AMOUNT\", dtype=ColumnDType.integer_t\n",
    ")\n",
    "transactions_table.update_column_dtype(\n",
    "    col_name=\"SELL_AMOUNT\", dtype=ColumnDType.integer_t\n",
    ")\n",
    "transactions_table.show_table()"
   ]
  },
  {
   "cell_type": "markdown",
   "metadata": {},
   "source": [
    "### Preparing the link prediction task"
   ]
  },
  {
   "cell_type": "code",
   "execution_count": null,
   "metadata": {},
   "outputs": [],
   "source": [
    "# our task is a classic link prediction task,\n",
    "# we will predict if there exists an edge between\n",
    "# senders and buyers.\n",
    "\n",
    "link_pred_task = LinkTask(\n",
    "    connector=connector,\n",
    "    name=\"link_prediction_example\",\n",
    "    task_data_source={\"train\": train_pth, \"test\": test_pth, \"validation\": val_pth},\n",
    "    source_entity_column=\"TX_SENDER_ADDRESS\",\n",
    "    source_entity_table=\"senders\",\n",
    "    target_entity_column=\"BUY_TOKEN_ADDRESS\",\n",
    "    target_entity_table=\"buyers\",\n",
    "    task_type=TaskType.LINK_PREDICTION,\n",
    "    time_column=\"BLOCK_TIMESTAMP\",\n",
    "    evaluation_metric=EvaluationMetric(name=\"link_prediction_map\", eval_at_k=10),\n",
    ")\n",
    "link_pred_task.show_task()"
   ]
  },
  {
   "cell_type": "markdown",
   "metadata": {},
   "source": [
    "### Putting it all together (dataset creation)"
   ]
  },
  {
   "cell_type": "code",
   "execution_count": null,
   "metadata": {},
   "outputs": [],
   "source": [
    "dataset = Dataset(\n",
    "    connector=connector,\n",
    "    dataset_name=\"tokenflow\",\n",
    "    tables=[buyers_table, transactions_table, senders_table],\n",
    "    task_description=link_pred_task,\n",
    ")"
   ]
  },
  {
   "cell_type": "code",
   "execution_count": null,
   "metadata": {},
   "outputs": [],
   "source": [
    "graph = dataset.visualize_dataset(show_dtypes=True)\n",
    "graph.set_graph_defaults(size=\"50,50!\")  # Increase graph size\n",
    "plt = Image(graph.create_png(), width=600, height=600)\n",
    "display(plt)"
   ]
  },
  {
   "cell_type": "markdown",
   "metadata": {},
   "source": [
    "### Train a GNN on the link prediction task"
   ]
  },
  {
   "cell_type": "code",
   "execution_count": null,
   "metadata": {},
   "outputs": [],
   "source": [
    "# create the GNN model configuration\n",
    "train_config = TrainerConfig(\n",
    "    connector=connector,\n",
    "    device=\"cuda\",\n",
    "    n_epochs=5,\n",
    "    id_awareness=True,\n",
    "    temporal_strategy=\"last\",\n",
    "    max_iters=2000,\n",
    "    train_batch_size=128,\n",
    "    shallow_embeddings_list=[\"buyers\"],\n",
    ")\n",
    "# initialize the Trainer\n",
    "trainer = Trainer(connector=connector, config=train_config)"
   ]
  },
  {
   "cell_type": "code",
   "execution_count": null,
   "metadata": {},
   "outputs": [],
   "source": [
    "# submit a training job\n",
    "train_job = trainer.fit(dataset=dataset)"
   ]
  },
  {
   "cell_type": "code",
   "execution_count": null,
   "metadata": {},
   "outputs": [],
   "source": [
    "# job status\n",
    "train_job.get_status()"
   ]
  },
  {
   "cell_type": "code",
   "execution_count": null,
   "metadata": {},
   "outputs": [],
   "source": [
    "train_job.stream_logs()"
   ]
  },
  {
   "cell_type": "code",
   "execution_count": null,
   "metadata": {},
   "outputs": [],
   "source": [
    "# when the model is ready we can get a model run ID\n",
    "# this can be used to run inference\n",
    "train_job.get_status()"
   ]
  },
  {
   "cell_type": "code",
   "execution_count": null,
   "metadata": {},
   "outputs": [],
   "source": []
  }
 ],
 "metadata": {
  "kernelspec": {
   "display_name": "sdk_ht",
   "language": "python",
   "name": "python3"
  },
  "language_info": {
   "codemirror_mode": {
    "name": "ipython",
    "version": 3
   },
   "file_extension": ".py",
   "mimetype": "text/x-python",
   "name": "python",
   "nbconvert_exporter": "python",
   "pygments_lexer": "ipython3",
   "version": "3.11.0"
  }
 },
 "nbformat": 4,
 "nbformat_minor": 2
}
